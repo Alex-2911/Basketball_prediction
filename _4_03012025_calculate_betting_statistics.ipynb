{
 "cells": [
  {
   "cell_type": "code",
   "execution_count": 1,
   "id": "bf3a1acf-6c09-4c2f-a7d6-b4b76664b3c1",
   "metadata": {},
   "outputs": [],
   "source": [
    "#########################################################################################################################\n",
    "# CALCUATE THE STATISTICS OF BETTING #\n",
    "\n",
    "# Script 4 of 5\n",
    "#Purpose: Merges actual outcomes with predicted results to evaluate betting performance.\n",
    "#Output: Calculates overall and subset accuracies (e.g., home-favored vs. away-favored), updating a combined CSV.\n",
    "\n",
    "# Ensure `_3. 03012025 lightgbm` is executed before running this script.\n",
    "#########################################################################################################################"
   ]
  },
  {
   "cell_type": "code",
   "execution_count": 2,
   "id": "7c45c660-df5e-487b-b2bd-87d18047d355",
   "metadata": {},
   "outputs": [],
   "source": [
    "current_season = 2025"
   ]
  },
  {
   "cell_type": "code",
   "execution_count": 3,
   "id": "d2f9adbf-5028-4043-82e9-b2ab9948c6a9",
   "metadata": {},
   "outputs": [],
   "source": [
    "import pandas as pd\n",
    "import os\n",
    "import glob\n",
    "import numpy as np\n",
    "import logging\n",
    "from datetime import datetime, timedelta\n",
    "from itertools import product\n"
   ]
  },
  {
   "cell_type": "code",
   "execution_count": 4,
   "id": "df28790a-7f99-4cb9-98d4-8693c74b8ebf",
   "metadata": {},
   "outputs": [
    {
     "name": "stdout",
     "output_type": "stream",
     "text": [
      "2025-03-09\n",
      "The calculated date string is: 2025-03-08\n",
      "2025-03-08 14:18:24.115476\n"
     ]
    }
   ],
   "source": [
    "# Current date in the format 'YYYYMMDD' as it seems to be the expected format in the filename\n",
    "MAX_DAYS_BACK = 120  # Configurable range for searching files\n",
    "\n",
    "today = datetime.now() - timedelta(days=0)\n",
    "today_str = (today).strftime(\"%Y-%m-%d\")\n",
    "print(today_str)\n",
    "\n",
    "# Calculate the date with a specific number of days back\n",
    "days_back = 1  # Example: go back 1 day\n",
    "date_str = (today - timedelta(days=days_back)).strftime(\"%Y-%m-%d\")\n",
    "\n",
    "# Output the formatted date\n",
    "print(f\"The calculated date string is: {date_str}\")\n",
    "\n",
    "yesterday = today - timedelta(days=1)\n",
    "print(yesterday)\n",
    "\n"
   ]
  },
  {
   "cell_type": "code",
   "execution_count": 5,
   "id": "dcbd7040-7841-4df8-83c5-a6b301094686",
   "metadata": {},
   "outputs": [
    {
     "name": "stdout",
     "output_type": "stream",
     "text": [
      "D:\\1. Python\\1. NBA Script\\2025\\LightGBM\\1. 2025_Prediction\n"
     ]
    }
   ],
   "source": [
    "directory_path = r'D:\\1. Python\\1. NBA Script\\2025\\LightGBM\\1. 2025_Prediction'\n",
    "print(directory_path)\n",
    "\n",
    "#directory_path = \"D:\\\\1. Python\\\\1. NBA Script\\\\2025\\\\Gathering_Data\\\\Whole_Statistic\"\n",
    "STAT_DIR = r'D:\\1. Python\\1. NBA Script\\2025\\Gathering_Data\\Whole_Statistic'\n",
    "\n",
    "# Use a wildcard to find all files in the directory\n",
    "files = glob.glob(os.path.join(directory_path, \"*\"))  # \"*\" will match any file in the directory\n",
    "\n",
    "target_folder = r'D:\\1. Python\\1. NBA Script\\2025\\Gathering_Data\\Next_Game'\n"
   ]
  },
  {
   "cell_type": "code",
   "execution_count": 6,
   "id": "d445d4a0-0b68-40f4-97c7-87f715086381",
   "metadata": {},
   "outputs": [
    {
     "name": "stdout",
     "output_type": "stream",
     "text": [
      "Checking date: 2025-03-08\n",
      "The file for 2025-03-08 exists.\n",
      "File found: D:\\1. Python\\1. NBA Script\\2025\\LightGBM\\1. 2025_Prediction\\nba_games_predict_2025-03-08.csv\n"
     ]
    }
   ],
   "source": [
    "# Function to check if file exists\n",
    "def file_exists(date_str, file_path):\n",
    "    filename = f\"nba_games_predict_{date_str}.csv\"\n",
    "    return os.path.isfile(os.path.join(file_path, filename))\n",
    "\n",
    "# Example variables (make sure they are defined before the loop)\n",
    "MAX_DAYS_BACK = 120\n",
    "#today = datetime.now()  # e.g. 2025-02-20\n",
    "days_back = 0\n",
    "file_found = False\n",
    "\n",
    "while not file_found and days_back <= MAX_DAYS_BACK:\n",
    "    # Recalculate the date string on *every* loop iteration\n",
    "    date_to_check = yesterday - timedelta(days=days_back)\n",
    "    date_str = date_to_check.strftime(\"%Y-%m-%d\")\n",
    "\n",
    "    print(f\"Checking date: {date_str}\")\n",
    "\n",
    "    if file_exists(date_str, directory_path):\n",
    "        file_found = True\n",
    "        print(f\"The file for {date_str} exists.\")\n",
    "        predict_file = glob.glob(os.path.join(directory_path, f'nba_games_predict_{date_str}.csv'))\n",
    "        break  # Exit the while loop\n",
    "    else:\n",
    "        days_back += 1\n",
    "\n",
    "if not file_found:\n",
    "    print(\"No file found in the last 120 days.\")\n",
    "\n",
    "if predict_file:\n",
    "    predict_file_path = predict_file[0]  # Get the first (and presumably only) file path\n",
    "    last_prediction = (yesterday - timedelta(days=days_back)).strftime(\"%Y-%m-%d\")\n",
    "    \n",
    "    # Further processing with predict_file_path\n",
    "    print(f\"File found: {predict_file_path}\")\n",
    "else:\n",
    "    print(f\"No prediction file found for {yesterday}\")\n",
    "\n",
    "#print(predict_file)"
   ]
  },
  {
   "cell_type": "code",
   "execution_count": 7,
   "id": "06f9de34-e192-4b17-afc7-9944676a80ef",
   "metadata": {},
   "outputs": [],
   "source": [
    "# # Function to check if file exists\n",
    "# def file_exists(date_str, file_path):\n",
    "#     filename = f\"nba_games_predict_{date_str}.csv\"\n",
    "#     return os.path.isfile(os.path.join(file_path, filename))\n",
    "\n",
    "# file_found = False\n",
    "\n",
    "# # Loop to find the most recent file\n",
    "# while not file_found and days_back <= MAX_DAYS_BACK:  # Limit the search to 120 days back\n",
    "#     print(date_str)\n",
    "#     print(directory_path)\n",
    "\n",
    "#     if file_exists(date_str, directory_path):\n",
    "#         file_found = True\n",
    "#         print(f\"The file for {date_str} exists.\")\n",
    "#         predict_file = glob.glob(os.path.join(directory_path, f'nba_games_predict_{date_str}.csv'))\n",
    "#         print(predict_file)\n",
    "\n",
    "#     else:\n",
    "#         days_back += 1\n",
    "\n",
    "# if not file_found:\n",
    "#     print(\"No file found in the last 120 days.\")\n",
    "\n",
    "# if predict_file:\n",
    "#     predict_file_path = predict_file[0]  # Get the first (and presumably only) file path\n",
    "#     last_prediction = (today - timedelta(days=days_back)).strftime(\"%Y-%m-%d\")\n",
    "    \n",
    "#     # Further processing with predict_file_path\n",
    "#     print(f\"File found: {predict_file_path}\")\n",
    "# else:\n",
    "#     print(f\"No prediction file found for {yesterday}\")\n",
    "\n",
    "# #print(predict_file)"
   ]
  },
  {
   "cell_type": "code",
   "execution_count": 8,
   "id": "1197768e-d9dd-4ee5-b776-7610d536bc29",
   "metadata": {},
   "outputs": [
    {
     "name": "stdout",
     "output_type": "stream",
     "text": [
      "    home_team away_team       home_team_prob odds 1 odds 2 result        date\n",
      "948       TOR       WAS   0.5528273083194465   1.61    2.4      0  2025-03-08\n",
      "947       MIL       ORL   0.6704824567006863   1.37    3.2      0  2025-03-08\n",
      "946       MIA       CHI   0.5453130023651898   1.54   2.55      0  2025-03-08\n",
      "945       HOU       NOP   0.5131277356992314    1.3   3.65      0  2025-03-08\n",
      "944       GSW       DET   0.6909174968238082   1.41    3.0      0  2025-03-08\n",
      "943       CHO       BRK  0.40611853047885654   2.55   1.54      0  2025-03-08\n",
      "942       BOS       LAL   0.6372584757732348   1.36   3.25      0  2025-03-08\n",
      "941       ATL       IND    0.565257434407426   2.25   1.67      0  2025-03-08\n",
      "1         SAC       SAS     0.65396766972042   1.38    3.1    SAC  2025-03-07\n",
      "0         TOR       UTA   0.5753971743553145   1.44   2.85    TOR  2025-03-07\n",
      "Combined predictions updated\n"
     ]
    }
   ],
   "source": [
    "# Process the statistics file\n",
    "if predict_file:\n",
    "    # Read prediction file\n",
    "    predict_file_df = pd.read_csv(predict_file[0], encoding=\"utf-7\", decimal=\",\")\n",
    "\n",
    "    # Assuming predict_file_df is your DataFrame\n",
    "    columns_to_display = ['home_team', 'away_team', 'home_team_prob', 'odds 1', 'odds 2', 'result', 'date']\n",
    "    #print(predict_file_df[columns_to_display])\n",
    "\n",
    "    # Convert 'odds 1' and 'odds 2' from comma as decimal separator to period\n",
    "    predict_file_df['odds 1'] = predict_file_df['odds 1'].astype(str).str.replace(',', '.').astype(float)\n",
    "    predict_file_df['odds 2'] = predict_file_df['odds 2'].astype(str).str.replace(',', '.').astype(float)\n",
    "\n",
    "    # File path for combined data\n",
    "    combined_file_path = os.path.join(directory_path, f'combined_nba_predictions_acc_{last_prediction}.csv')\n",
    "\n",
    "    try:\n",
    "        # Attempt to read the combined file\n",
    "        #combined_df = pd.read_csv(combined_file_path)\n",
    "        combined_df = pd.read_csv(combined_file_path, encoding=\"utf-7\", decimal=\",\")\n",
    "\n",
    "    except FileNotFoundError:\n",
    "        # If not found, initialize an empty DataFrame\n",
    "        combined_df = pd.DataFrame()\n",
    "\n",
    "    # Append new data to the combined DataFrame\n",
    "    predict_file_df['accuracy'] = np.nan  # Add 'accuracy' column with NaN\n",
    "    combined_df = pd.concat([combined_df, predict_file_df], ignore_index=True)\n",
    "\n",
    "     # Sort the DataFrame by date\n",
    "    combined_df = combined_df.sort_values(by='date', ascending=False)\n",
    "    #print(combined_df)\n",
    "\n",
    "    # Select only the desired columns\n",
    "    combined_df = combined_df[columns_to_display]\n",
    "    print(combined_df.head(10))\n",
    "    \n",
    "    print(f\"Combined predictions updated\")\n",
    "else:\n",
    "    print(f\"No prediction file found for {yesterday}.\")\n"
   ]
  },
  {
   "cell_type": "code",
   "execution_count": 9,
   "id": "ac4fbdf6-055d-4119-99ce-adc79be05811",
   "metadata": {},
   "outputs": [
    {
     "name": "stderr",
     "output_type": "stream",
     "text": [
      "2025-03-09 14:18:24,461 - INFO - The file for 2025-03-09 exists.\n"
     ]
    },
    {
     "name": "stdout",
     "output_type": "stream",
     "text": [
      "2025-03-08\n",
      "2025-03-09\n"
     ]
    }
   ],
   "source": [
    "# Check for the most actual file with the game statistics\n",
    "print(date_str)\n",
    "\n",
    "# Set up logging\n",
    "logging.basicConfig(level=logging.INFO, format='%(asctime)s - %(levelname)s - %(message)s')\n",
    "\n",
    "# Function to check if file exists\n",
    "def file_exists(date_str):\n",
    "    \"\"\"Check if a specific file exists based on the date string.\"\"\"\n",
    "    filename = f\"nba_games_{date_str}.csv\"\n",
    "    return os.path.isfile(os.path.join(STAT_DIR, filename))\n",
    "\n",
    "# Function to find the most recent file\n",
    "def find_most_recent_file(max_days=MAX_DAYS_BACK):\n",
    "    \"\"\"Find the most recent file within a specified number of days.\"\"\"\n",
    "    days_back = 0\n",
    "    #today = datetime.date.today()\n",
    "\n",
    "    while days_back <= max_days:\n",
    "        most_recent_date = (today - timedelta(days=days_back)).strftime(\"%Y-%m-%d\")\n",
    "        if file_exists(most_recent_date):\n",
    "            logging.info(f\"The file for {most_recent_date} exists.\")\n",
    "            return most_recent_date\n",
    "        else:\n",
    "            days_back += 1\n",
    "            #return days_back\n",
    "\n",
    "    logging.warning(\"No file found within the specified range.\")\n",
    "    return None\n",
    "\n",
    "# Main script execution\n",
    "try:\n",
    "    most_recent_date = find_most_recent_file()\n",
    "    print(most_recent_date)\n",
    "\n",
    "except FileNotFoundError:\n",
    "    logging.error(\"File or directory not found.\")\n",
    "except IOError:\n",
    "    logging.error(\"Error accessing file.\")\n",
    "except Exception as e:\n",
    "    logging.error(f\"An unexpected error occurred: {e}\")\n"
   ]
  },
  {
   "cell_type": "code",
   "execution_count": 10,
   "id": "d2ba1443-02ce-4dad-b3b3-667073873471",
   "metadata": {},
   "outputs": [
    {
     "name": "stdout",
     "output_type": "stream",
     "text": [
      "2025-03-09\n",
      "Overall Accuracy: 59.96%\n",
      "Accuracy for home_team_prob above 0.60: 63.91%\n",
      "Accuracy for home_team_prob under 0.40 (away team wins): 67.36%\n",
      "D:\\1. Python\\1. NBA Script\\2025\\LightGBM\\1. 2025_Prediction\\combined_nba_predictions_acc_2025-03-09.csv\n"
     ]
    }
   ],
   "source": [
    "# Update the betting overview and check the accuracy of prediction\n",
    "season_2025_df = combined_df.copy()  \n",
    "\n",
    "# Assuming last_prediction is a string in 'YYYY-MM-DD' format\n",
    "print(most_recent_date)\n",
    "#print(season_2025_df['date'].head(50))\n",
    "\n",
    "daily_games_df = pd.read_csv(os.path.join(STAT_DIR, f\"nba_games_{most_recent_date}.csv\"))\n",
    "#print(daily_games_df)\n",
    "\n",
    "# Filter data for the 2025 season\n",
    "season_2025_df = combined_df.copy()\n",
    "daily_games_df = daily_games_df[daily_games_df['season'] == current_season].copy()\n",
    "\n",
    "season_2025_df['date'] = pd.to_datetime(season_2025_df['date'], errors='coerce')\n",
    "daily_games_df['date'] = pd.to_datetime(daily_games_df['date'], errors='coerce')\n",
    "\n",
    "\n",
    "# Iterate over each row in the daily game data and update the result column in the combined data\n",
    "for _, row in daily_games_df.iterrows():\n",
    "    date = row['date']\n",
    "    #print(date)\n",
    "    winning_team = row['team'] if row['won'] == 1 else None\n",
    "    #print(winning_team)\n",
    "    \n",
    "    # Update the 'result' column for the corresponding date and teams in the 2024 season\n",
    "    if winning_team:\n",
    "        mask = (season_2025_df['date'] == date) & (\n",
    "            (season_2025_df['home_team'] == winning_team) | (season_2025_df['away_team'] == winning_team)\n",
    "        )\n",
    "        \n",
    "        season_2025_df.loc[mask, 'result'] = winning_team\n",
    "        #print(season_2025_df)\n",
    "        \n",
    "# Ensure that 'home_team_prob' is numeric\n",
    "#print(season_2025_df.head(20))\n",
    "season_2025_df['home_team_prob'] = pd.to_numeric(season_2025_df['home_team_prob'], errors='coerce')\n",
    "\n",
    "# Check for any invalid values after conversion\n",
    "if season_2025_df['home_team_prob'].isnull().any():\n",
    "    print(\"Warning: Some values in 'home_team_prob' could not be converted to numeric and have been set to NaN.\")\n",
    "\n",
    "# Ensure 'result', 'home_team', and 'away_team' columns are strings for comparison\n",
    "season_2025_df['result'] = season_2025_df['result'].astype(str)\n",
    "season_2025_df['home_team'] = season_2025_df['home_team'].astype(str)\n",
    "season_2025_df['away_team'] = season_2025_df['away_team'].astype(str)\n",
    "\n",
    "# Create conditions for correct predictions\n",
    "home_team_correct = (season_2025_df['home_team_prob'] >= 0.5) & (season_2025_df['result'] == season_2025_df['home_team'])\n",
    "away_team_correct = (season_2025_df['home_team_prob'] < 0.5) & (season_2025_df['result'] == season_2025_df['away_team'])\n",
    "\n",
    "# Calculate accuracy for each row\n",
    "season_2025_df['accuracy'] = (home_team_correct | away_team_correct).astype(int)\n",
    "\n",
    "# Overall Accuracy\n",
    "overall_accuracy = season_2025_df['accuracy'].mean()\n",
    "print(f'Overall Accuracy: {overall_accuracy:.2%}')\n",
    "\n",
    "# Filter the DataFrame for specific subsets\n",
    "subset_df = season_2025_df[(season_2025_df['home_team_prob'] <= 0.400)]\n",
    "subset_df_home = season_2025_df[(season_2025_df['home_team_prob'] > 0.6)]\n",
    "\n",
    "# Calculate accuracy for the subsets\n",
    "subset_accuracy = subset_df['accuracy'].mean()\n",
    "subset_accuracy_home = subset_df_home['accuracy'].mean()\n",
    "\n",
    "print(f'Accuracy for home_team_prob above 0.60: {subset_accuracy_home:.2%}')\n",
    "print(f'Accuracy for home_team_prob under 0.40 (away team wins): {subset_accuracy:.2%}')\n",
    "\n",
    "\n",
    "# Save the updated DataFrame\n",
    "#today = datetime.strptime(date_str, \"%Y-%m-%d\")  # Ensure `today` is in the correct datetime format\n",
    "#print(date_str)\n",
    "\n",
    "save_file_path = os.path.join(directory_path, f'combined_nba_predictions_acc_{today_str}.csv')\n",
    "print(save_file_path)\n",
    "\n",
    "# Drop unnecessary columns if they exist\n",
    "season_2025_df.drop(columns=['Unnamed: 8'], errors='ignore', inplace=True)\n",
    "season_2025_df.dropna(inplace=True)\n",
    "\n",
    "# Save the final DataFrame\n",
    "season_2025_df.to_csv(save_file_path, index=False)\n"
   ]
  },
  {
   "cell_type": "code",
   "execution_count": 11,
   "id": "c168a165-e07c-4e4b-be99-cbf4d31ab022",
   "metadata": {},
   "outputs": [],
   "source": [
    "###############################################################################################################################################"
   ]
  },
  {
   "cell_type": "code",
   "execution_count": 12,
   "id": "3877e0a6-e80a-4175-8c8d-d3435069c01a",
   "metadata": {},
   "outputs": [],
   "source": [
    "###############################################################################################################################################"
   ]
  }
 ],
 "metadata": {
  "kernelspec": {
   "display_name": "Python 3 (ipykernel)",
   "language": "python",
   "name": "python3"
  },
  "language_info": {
   "codemirror_mode": {
    "name": "ipython",
    "version": 3
   },
   "file_extension": ".py",
   "mimetype": "text/x-python",
   "name": "python",
   "nbconvert_exporter": "python",
   "pygments_lexer": "ipython3",
   "version": "3.11.5"
  }
 },
 "nbformat": 4,
 "nbformat_minor": 5
}
