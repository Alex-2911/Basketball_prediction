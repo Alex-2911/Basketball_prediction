{
 "cells": [
  {
   "cell_type": "code",
   "execution_count": 1,
   "id": "c6c3b2aa-72d5-45a5-96ec-3dcd402db919",
   "metadata": {},
   "outputs": [],
   "source": [
    "#########################################################################################################################\n",
    "# CALCUATE PREDICTION FOR NEXT GAME DAY #\n",
    "\n",
    "# Script 3 of 4\n",
    "# This script Calculates game predictions for the next NBA game day using historical data, rolling averages, and machine learning models,\n",
    "# and outputs results with probabilities.\n",
    "\n",
    "# Ensure `_2. 03012025_get_data_next_game_day.ipynb` is executed before running this script.\n",
    "#########################################################################################################################"
   ]
  },
  {
   "cell_type": "code",
   "execution_count": 2,
   "id": "582f7b56-194a-40fe-8fed-17e440efc063",
   "metadata": {},
   "outputs": [],
   "source": [
    "ROLLING_WINDOW_SIZE = 7\n",
    "current_season = 2025"
   ]
  },
  {
   "cell_type": "code",
   "execution_count": 3,
   "id": "72dbba85-93c6-4bd1-970f-95a6ccccd470",
   "metadata": {},
   "outputs": [],
   "source": [
    "import pandas as pd\n",
    "import datetime\n",
    "import numpy as np\n",
    "import lightgbm as lgb\n",
    "import os\n",
    "\n",
    "import lightgbm as lgb\n",
    "from sklearn.preprocessing import MinMaxScaler\n",
    "from sklearn.model_selection import TimeSeriesSplit\n",
    "from sklearn.feature_selection import SequentialFeatureSelector\n",
    "\n",
    "from sklearn.model_selection import train_test_split\n",
    "from sklearn.metrics import accuracy_score\n",
    "\n",
    "import glob\n",
    "import datetime\n",
    "from datetime import datetime, timedelta\n",
    "\n",
    "import subprocess\n",
    "import shutil\n"
   ]
  },
  {
   "cell_type": "code",
   "execution_count": 4,
   "id": "5c5999b4-ae09-4748-b5ca-657c932a4fee",
   "metadata": {},
   "outputs": [],
   "source": [
    "today = (datetime.now()- timedelta(days=0)).strftime(\"%Y-%m-%d\")\n"
   ]
  },
  {
   "cell_type": "code",
   "execution_count": 5,
   "id": "9cf2ec0c-86e3-41ca-b87f-dc6e4e0ba6e6",
   "metadata": {},
   "outputs": [],
   "source": [
    "# Constants\n",
    "target_folder = \"D:\\\\1. Python\\\\1. NBA Script\\\\2025\\\\Gathering_Data\\\\Next_Game\\\\\"\n",
    "STAT_DIR = \"D:\\\\1. Python\\\\1. NBA Script\\\\2025\\\\Gathering_Data\\\\Whole_Statistic\\\\\"\n",
    "\n",
    "df_path = os.path.join(STAT_DIR, f\"nba_games_{today}.csv\")\n",
    "\n",
    "directory_path = r\"D:\\1. Python\\1. NBA Script\\2025\\LightGBM\\1. 2025_Prediction\"\n",
    "dst_dir = r'D:\\_Laufwerk C\\11. Sorare\\NBA\\2025\\LightGBM'\n",
    "\n",
    "open_office_path = \"C:\\Program Files (x86)\\OpenOffice 4\\program/scalc\"\n"
   ]
  },
  {
   "cell_type": "code",
   "execution_count": 6,
   "id": "edcd38a7-ca45-4ad9-939b-f07bea71102a",
   "metadata": {},
   "outputs": [
    {
     "name": "stdout",
     "output_type": "stream",
     "text": [
      "home_team away_team  game_date\n",
      "      CHO       POR 2025-01-24\n",
      "      PHI       CLE 2025-01-24\n",
      "      MEM       NOP 2025-01-24\n"
     ]
    }
   ],
   "source": [
    "# Define directory and date format\n",
    "# Check if file exists\n",
    "file_path = f\"{target_folder}games_df_{today}.csv\"\n",
    "if not os.path.exists(file_path):\n",
    "    # List files and pick the latest one\n",
    "    files = sorted(glob.glob(f\"{target_folder}games_df_*.csv\"))\n",
    "    if files:\n",
    "        file_path = files[-1]  # Use the latest available file\n",
    "        print(f\"Using the latest file: {file_path}\")\n",
    "    else:\n",
    "        print(\"No files found in the directory.\")\n",
    "        exit()\n",
    "\n",
    "# Proceed to read the file\n",
    "games_df = pd.read_csv(file_path, index_col=0)\n",
    "print(games_df.head(60).to_string(index=False))\n"
   ]
  },
  {
   "cell_type": "code",
   "execution_count": 7,
   "id": "27da10f7-25c8-4b90-b785-bc064a0520d8",
   "metadata": {},
   "outputs": [
    {
     "name": "stdout",
     "output_type": "stream",
     "text": [
      "         fg   fga      fg%    3p   3pa      3p%    ft   fta      ft%   orb  \\\n",
      "mp.1                                                                         \n",
      "240.0  37.0  96.0  385.000  12.0  29.0  414.000  20.0  26.0  769.000  23.0   \n",
      "240.0  37.0  82.0  451.000   8.0  27.0  296.000  12.0  15.0    0.800   7.0   \n",
      "240.0  38.0  94.0  404.000   9.0  29.0    0.310  10.0  17.0  588.000  11.0   \n",
      "240.0  37.0  87.0  425.000   7.0  19.0  368.000  16.0  23.0  696.000   7.0   \n",
      "240.0  35.0  83.0  422.000   6.0  18.0  333.000  19.0  27.0  704.000   8.0   \n",
      "...     ...   ...      ...   ...   ...      ...   ...   ...      ...   ...   \n",
      "NaN    46.0  98.0    0.469  18.0  40.0    0.450  15.0  20.0    0.750  11.0   \n",
      "NaN    39.0  74.0    0.527  14.0  31.0    0.452  29.0  36.0    0.806   8.0   \n",
      "NaN    42.0  88.0    0.477  15.0  37.0    0.405  16.0  22.0    0.727   8.0   \n",
      "NaN    40.0  82.0    0.488   9.0  28.0    0.321  12.0  19.0    0.632   8.0   \n",
      "NaN    26.0  76.0    0.342   6.0  25.0    0.240  21.0  31.0    0.677  14.0   \n",
      "\n",
      "       ...  usg%_max_opp  ortg_max_opp  drtg_max_opp  team_opp  total_opp  \\\n",
      "mp.1   ...                                                                  \n",
      "240.0  ...          33.8         258.0         121.0       ATL         94   \n",
      "240.0  ...          23.6         132.0         104.0       DET        106   \n",
      "240.0  ...          34.6         162.0         104.0       CHI         97   \n",
      "240.0  ...          29.0         138.0         105.0       CLE         95   \n",
      "240.0  ...          43.7         206.0         104.0       GSW        111   \n",
      "...    ...           ...           ...           ...       ...        ...   \n",
      "NaN    ...          31.2         114.0         131.0       MIA         96   \n",
      "NaN    ...          33.4         300.0         129.0       OKC        115   \n",
      "NaN    ...          27.4         197.0         123.0       DAL        121   \n",
      "NaN    ...          42.8         155.0         116.0       ORL         79   \n",
      "NaN    ...          34.5         223.0          99.0       POR        101   \n",
      "\n",
      "       home_opp  season                 date    won  Unnamed: 0  \n",
      "mp.1                                                             \n",
      "240.0         1    2016           2015-10-27   True         NaN  \n",
      "240.0         0    2016           2015-10-27  False         NaN  \n",
      "240.0         1    2016           2015-10-27  False         NaN  \n",
      "240.0         0    2016           2015-10-27   True         NaN  \n",
      "240.0         1    2016           2015-10-27  False         NaN  \n",
      "...         ...     ...                  ...    ...         ...  \n",
      "NaN           0    2025  2025-01-23 00:00:00   True         NaN  \n",
      "NaN           1    2025  2025-01-23 00:00:00   True         NaN  \n",
      "NaN           0    2025  2025-01-23 00:00:00  False         NaN  \n",
      "NaN           1    2025  2025-01-23 00:00:00   True         NaN  \n",
      "NaN           0    2025  2025-01-23 00:00:00  False         NaN  \n",
      "\n",
      "[23448 rows x 149 columns]\n"
     ]
    }
   ],
   "source": [
    "# Function to find the most recent file in the directory if the desired one is not available\n",
    "def get_latest_available_file(target_folder, prefix=\"nba_games_\", extension=\".csv\"):\n",
    "    \"\"\"Returns the latest available CSV file matching the pattern.\"\"\"\n",
    "    available_files = [f for f in os.listdir(target_folder) if f.startswith(prefix) and f.endswith(extension)]\n",
    "    if available_files:\n",
    "        latest_file = max(available_files, key=lambda f: os.path.getctime(os.path.join(target_folder, f)))\n",
    "        return os.path.join(target_folder, latest_file)\n",
    "    return None\n",
    "\n",
    "# Check if the specific file for today exists; if not, fallback to the most recent available file\n",
    "if not os.path.exists(df_path):\n",
    "    print(f\"File for {today} not found. Searching for the latest available file...\")\n",
    "    df_path = get_latest_available_file(DST_DIR)\n",
    "    if df_path:\n",
    "        print(f\"Using the latest available file: {df_path}\")\n",
    "    else:\n",
    "        raise FileNotFoundError(f\"No suitable file found in the directory: {DST_DIR}\")\n",
    "\n",
    "# Proceed with loading the data\n",
    "df = pd.read_csv(df_path, index_col=0)\n",
    "print(df)#.tail())  # Display a portion of the data\n",
    "\n",
    "# Function to add a target column\n",
    "def add_target(group):\n",
    "    \"\"\"Adds a target column to the DataFrame group based on the 'won' column.\"\"\"\n",
    "    group['target'] = group['won'].shift(-1)\n",
    "    return group\n",
    "\n",
    "def preprocess_nba_data():\n",
    "    # Load the data\n",
    "    df = pd.read_csv(df_path, index_col=0)\n",
    "    \n",
    "    # Sort by date\n",
    "    df = df.sort_values(\"date\")\n",
    "\n",
    "    # Apply the preprocessing function to each team group\n",
    "    df = df.groupby('team').apply(add_target)\n",
    "\n",
    "    # Handle missing values\n",
    "    df['target'].fillna(2, inplace=True)\n",
    "    df['target'] = df['target'].astype(int)\n",
    "\n",
    "    # Identify and remove columns with null values\n",
    "    nulls = pd.isnull(df).sum()\n",
    "    nulls = nulls[nulls > 0]\n",
    "    valid_columns = df.columns[~df.columns.isin(nulls.index)]\n",
    "    df = df[valid_columns].copy()\n",
    "\n",
    "    return df\n",
    "\n",
    "if __name__ == \"__main__\":\n",
    "    df = preprocess_nba_data()\n",
    "\n",
    "    # Columns to be excluded from scaling\n",
    "    removed_columns = [\"season\", \"date\", \"won\", \"target\", \"team\", \"team_opp\"]\n",
    "\n",
    "    # Selecting columns that are not in the 'removed_columns' list\n",
    "    selected_columns = df.columns[~df.columns.isin(removed_columns)]\n",
    "\n",
    "    # Initialize the MinMaxScaler\n",
    "    scaler = MinMaxScaler()\n",
    "\n",
    "    # Scale the selected columns and update the DataFrame\n",
    "    df[selected_columns] = scaler.fit_transform(df[selected_columns])\n",
    "\n",
    "    #df.to_csv(\"D:\\\\1. Python\\\\1. NBA Script\\\\2025\\\\Gathering_Data\\\\Whole_Statistic\\\\df_orig.csv\", index=False)\n",
    "    "
   ]
  },
  {
   "cell_type": "code",
   "execution_count": 8,
   "id": "34e83d7e-6eda-4dd8-a344-689725b42eb1",
   "metadata": {},
   "outputs": [
    {
     "data": {
      "text/plain": [
       "home\n",
       "0.0    0.431337\n",
       "1.0    0.568663\n",
       "dtype: float64"
      ]
     },
     "execution_count": 8,
     "metadata": {},
     "output_type": "execute_result"
    }
   ],
   "source": [
    "df.groupby([\"home\"]).apply(lambda x: x[x[\"won\"] == 1].shape[0] / x.shape[0])\n",
    "\n",
    "#print(df_rolling.head(60).to_string(index=False))"
   ]
  },
  {
   "cell_type": "code",
   "execution_count": 9,
   "id": "fbc3f61b-03b2-4c3e-871d-271bf0b98ce5",
   "metadata": {},
   "outputs": [],
   "source": [
    "####################################################################################################\n",
    "# CALCULATE THE AVERAGE FOR THE PREVIOUS SEASONS WITH THE ROLLING WINDOW OF 7 FOR LEARNING THE MODEL #\n",
    "####################################################################################################\n",
    "\n",
    "# Filter out the games from the current season\n",
    "df_rolling = df[list(selected_columns) + [\"won\", \"team\", \"season\"]]\n",
    "#df_rolling = df_rolling[df_rolling['season'] != current_season].copy()\n",
    "\n",
    "#print(df_rolling.columns)\n",
    "def find_team_averages(team):\n",
    "    numeric_columns = team.select_dtypes(include=[np.number])  # Select only numeric columns\n",
    "    rolling = numeric_columns.rolling(ROLLING_WINDOW_SIZE, min_periods=1).mean()  # Calculate rolling mean\n",
    "    #rolling[['team', 'season']] = team[['team', 'season']]  # Retain 'team' and 'season' columns in the result\n",
    "    return rolling\n",
    "\n",
    "# Apply rolling average\n",
    "df_rolling.reset_index(drop=True, inplace=True)\n",
    "df_rolling = df_rolling.groupby([\"team\", \"season\"], group_keys=False).apply(find_team_averages)\n",
    "\n",
    "\n",
    "# Renaming columns with _7 suffix for numeric columns only\n",
    "rolling_cols = {col: f\"{col}_7\" for col in df_rolling.columns if col not in ['team', 'season']} #, 'season','season_rolling','season_original','target']}\n",
    "\n",
    "\n",
    "# Rename the columns\n",
    "df_rolling.rename(columns=rolling_cols, inplace=True)\n"
   ]
  },
  {
   "cell_type": "code",
   "execution_count": 10,
   "id": "8d390308-09dc-4e08-84e5-b4eab4a55e24",
   "metadata": {},
   "outputs": [
    {
     "name": "stdout",
     "output_type": "stream",
     "text": [
      "             fg       fga       fg%        3p       3pa       3p%        ft  \\\n",
      "0      0.391304  0.323529  0.656339  0.275862  0.348485  0.351544  0.272727   \n",
      "1      0.500000  0.338235  0.736429  0.344828  0.303030  0.495249  0.409091   \n",
      "2      0.369565  0.338235  0.631584  0.275862  0.287879  0.413302  0.386364   \n",
      "3      0.391304  0.411765  0.000208  0.241379  0.378788  0.286223  0.295455   \n",
      "4      0.391304  0.441176  0.598091  0.241379  0.257576  0.395487  0.386364   \n",
      "...         ...       ...       ...       ...       ...       ...       ...   \n",
      "23443  0.413043  0.382353  0.000240  0.758621  0.621212  0.000581  0.363636   \n",
      "23444  0.413043  0.382353  0.000240  0.758621  0.621212  0.000581  0.363636   \n",
      "23445  0.282609  0.426471  0.000121  0.344828  0.575758  0.000283  0.590909   \n",
      "23446  0.326087  0.514706  0.000118  0.379310  0.590909  0.000304  0.204545   \n",
      "23447  0.282609  0.500000  0.000092  0.379310  0.636364  0.000284  0.409091   \n",
      "\n",
      "            fta       orb       drb  ...  ast%_max_opp_7  stl%_max_opp_7  \\\n",
      "0      0.234375  0.241379  0.386364  ...        0.261468        0.032000   \n",
      "1      0.406250  0.241379  0.363636  ...        0.250573        0.043500   \n",
      "2      0.343750  0.275862  0.477273  ...        0.280963        0.047333   \n",
      "3      0.218750  0.310345  0.522727  ...        0.293578        0.043750   \n",
      "4      0.343750  0.551724  0.431818  ...        0.256422        0.044600   \n",
      "...         ...       ...       ...  ...             ...             ...   \n",
      "23443  0.359375  0.379310  0.386364  ...        0.252949        0.057571   \n",
      "23444  0.359375  0.379310  0.386364  ...        0.237221        0.058429   \n",
      "23445  0.500000  0.344828  0.454545  ...        0.262123        0.058429   \n",
      "23446  0.203125  0.310345  0.477273  ...        0.302916        0.082429   \n",
      "23447  0.328125  0.482759  0.431818  ...        0.354194        0.080714   \n",
      "\n",
      "       blk%_max_opp_7  tov%_max_opp_7  usg%_max_opp_7  ortg_max_opp_7  \\\n",
      "0            0.047000        0.300839        0.020513        0.203791   \n",
      "1            0.042500        0.325996        0.105769        0.329384   \n",
      "2            0.064667        0.341370        0.089316        0.262243   \n",
      "3            0.070750        0.300314        0.085897        0.446682   \n",
      "4            0.074600        0.338574        0.100769        0.408531   \n",
      "...               ...             ...             ...             ...   \n",
      "23443        0.153286        0.374064        0.179487        0.559242   \n",
      "23444        0.121571        0.333333        0.164469        0.522004   \n",
      "23445        0.103857        0.339323        0.155128        0.558565   \n",
      "23446        0.087000        0.322701        0.158791        0.528775   \n",
      "23447        0.110429        0.331536        0.155311        0.498307   \n",
      "\n",
      "       drtg_max_opp_7  total_opp_7  home_opp_7  season  \n",
      "0            0.306818     0.375000    0.000000  2016.0  \n",
      "1            0.375000     0.352679    0.500000  2016.0  \n",
      "2            0.348485     0.324405    0.333333  2016.0  \n",
      "3            0.363636     0.305804    0.500000  2016.0  \n",
      "4            0.370455     0.294643    0.600000  2016.0  \n",
      "...               ...          ...         ...     ...  \n",
      "23443        0.465909     0.563776    0.428571  2025.0  \n",
      "23444        0.462662     0.547194    0.571429  2025.0  \n",
      "23445        0.444805     0.565051    0.571429  2025.0  \n",
      "23446        0.417208     0.530612    0.571429  2025.0  \n",
      "23447        0.435065     0.497449    0.714286  2025.0  \n",
      "\n",
      "[23448 rows x 267 columns]\n",
      "776      2\n",
      "1649     2\n",
      "2408     2\n",
      "3151     2\n",
      "3877     2\n",
      "4681     2\n",
      "5474     2\n",
      "6288     2\n",
      "7022     2\n",
      "7869     2\n",
      "8659     2\n",
      "9438     2\n",
      "10234    2\n",
      "11008    2\n",
      "11778    2\n",
      "12601    2\n",
      "13415    2\n",
      "14178    2\n",
      "14931    2\n",
      "15685    2\n",
      "16471    2\n",
      "17220    2\n",
      "18018    2\n",
      "18801    2\n",
      "19582    2\n",
      "20322    2\n",
      "21092    2\n",
      "21906    2\n",
      "22687    2\n",
      "23447    2\n",
      "Name: target, dtype: int32\n"
     ]
    }
   ],
   "source": [
    "df = df.reset_index(drop=True)\n",
    "df_rolling = df_rolling.reset_index(drop=True)\n",
    "\n",
    "df = pd.concat([df, df_rolling], axis=1)\n",
    "\n",
    "#df.to_csv(\"D:\\\\1. Python\\\\1. NBA Script\\\\2025\\\\Gathering_Data\\\\Whole_Statistic\\\\df_pd.concat.csv\", index=False)\n",
    "\n",
    "\n",
    "df = df.dropna()\n",
    "\n",
    "print(df)\n",
    "\n",
    "target_2_rows = df[df['target'] == 2]['target']\n",
    "print(target_2_rows)"
   ]
  },
  {
   "cell_type": "code",
   "execution_count": 11,
   "id": "42b1dc6b-6c9c-40e1-a622-7067e48cd386",
   "metadata": {},
   "outputs": [
    {
     "name": "stdout",
     "output_type": "stream",
     "text": [
      "776      2\n",
      "1649     2\n",
      "2408     2\n",
      "3151     2\n",
      "3877     2\n",
      "4681     2\n",
      "5474     2\n",
      "6288     2\n",
      "7022     2\n",
      "7869     2\n",
      "8659     2\n",
      "9438     2\n",
      "10234    2\n",
      "11008    2\n",
      "11778    2\n",
      "12601    2\n",
      "13415    2\n",
      "14178    2\n",
      "14931    2\n",
      "15685    2\n",
      "16471    2\n",
      "17220    2\n",
      "18018    2\n",
      "18801    2\n",
      "19582    2\n",
      "20322    2\n",
      "21092    2\n",
      "21906    2\n",
      "22687    2\n",
      "23447    2\n",
      "Name: target, dtype: int32\n"
     ]
    }
   ],
   "source": [
    "def shift_col(team, col_name):\n",
    "    next_col = team[col_name].shift(-1)\n",
    "    return next_col\n",
    "\n",
    "def add_col(df, col_name):\n",
    "    # Ensure the 'team' column is not part of the index and is correctly formatted\n",
    "    if 'team' in df.columns:\n",
    "        return df.groupby(\"team\", group_keys=False).apply(lambda x: shift_col(x, col_name))\n",
    "    else:\n",
    "        raise KeyError(\"The 'team' column is missing or not properly formatted in the DataFrame.\")\n",
    "\n",
    "# Ensure the 'team' column exists and is not part of the index\n",
    "if 'team' not in df.columns:\n",
    "    print(\"The 'team' column is missing. Ensure the column is present in your DataFrame.\")\n",
    "\n",
    "# Reset the index to avoid potential issues with multi-indexing\n",
    "df = df.reset_index(drop=True)\n",
    "\n",
    "# Add shifted columns for \"home\", \"team_opp\", and \"date\"\n",
    "df[\"home_next\"] = add_col(df, \"home\")\n",
    "df[\"team_opp_next\"] = add_col(df, \"team_opp\")\n",
    "df[\"date_next\"] = add_col(df, \"date\")\n",
    "\n",
    "# Drop rows where any of the next columns contain NaN values (optional)\n",
    "#df = df.dropna(subset=[\"home_next\", \"team_opp_next\", \"date_next\"])\n",
    "\n",
    "# Optionally, save the DataFrame to a CSV file\n",
    "#df.to_csv(\"D:\\\\1. Python\\\\1. NBA Script\\\\2025\\\\Gathering_Data\\\\Whole_Statistic\\\\df_dropna_target_2.csv\", index=False)\n",
    "#df.to_csv(\"D:\\\\1. Python\\\\1. NBA Script\\\\2025\\\\Gathering_Data\\\\Whole_Statistic\\\\df.csv\", index=False)\n",
    "\n",
    "\n",
    "# Display the first few rows to check the output\n",
    "#print(df.head())\n",
    "\n",
    "target_2_rows = df[df['target'] == 2]['target']\n",
    "print(target_2_rows)\n"
   ]
  },
  {
   "cell_type": "code",
   "execution_count": 12,
   "id": "4065320c-a643-48b8-9320-094f7e7fb03b",
   "metadata": {},
   "outputs": [
    {
     "name": "stdout",
     "output_type": "stream",
     "text": [
      "CHO\n",
      "POR\n",
      "2025-01-24\n",
      "PHI\n",
      "CLE\n",
      "2025-01-24\n",
      "MEM\n",
      "NOP\n",
      "2025-01-24\n"
     ]
    }
   ],
   "source": [
    "for _, game in games_df.iterrows():\n",
    "    home_team = game['home_team']\n",
    "    away_team = game['away_team']\n",
    "    game_day = game['game_date']\n",
    "    \n",
    "    print(home_team)\n",
    "    print(away_team)\n",
    "    print(game_day)\n",
    "\n",
    "\n",
    "    last_home_team_index = df.loc[df['team'] == home_team].iloc[::-1].index[0]\n",
    "    \n",
    "    df.loc[last_home_team_index, 'team_opp_next'] = away_team\n",
    "    df.loc[last_home_team_index, 'home_next'] = 1\n",
    "    df.loc[last_home_team_index, 'date_next'] = game_day\n",
    "    \n",
    "\n",
    "    last_away_team_index = df.loc[df['team'] == away_team].iloc[::-1].index[0]\n",
    "    \n",
    "    df.loc[last_away_team_index, 'team_opp_next'] = home_team\n",
    "    df.loc[last_away_team_index, 'home_next'] = 0\n",
    "    df.loc[last_away_team_index, 'date_next'] = game_day\n"
   ]
  },
  {
   "cell_type": "code",
   "execution_count": 13,
   "id": "1aecc69f-afd6-47ed-9a4f-d4b7757b583d",
   "metadata": {},
   "outputs": [
    {
     "name": "stdout",
     "output_type": "stream",
     "text": [
      "Full DataFrame Info:\n",
      "<class 'pandas.core.frame.DataFrame'>\n",
      "RangeIndex: 23620 entries, 0 to 23619\n",
      "Columns: 402 entries, fg_x to team_y\n",
      "dtypes: bool(1), float64(392), int32(1), int64(1), object(7)\n",
      "memory usage: 72.2+ MB\n",
      "None\n",
      "\n",
      "First few rows of the merged DataFrame:\n",
      "       fg_x     fga_x     fg%_x      3p_x     3pa_x     3p%_x      ft_x  \\\n",
      "0  0.391304  0.323529  0.656339  0.275862  0.348485  0.351544  0.272727   \n",
      "1  0.500000  0.338235  0.736429  0.344828  0.303030  0.495249  0.409091   \n",
      "2  0.369565  0.338235  0.631584  0.275862  0.287879  0.413302  0.386364   \n",
      "3  0.391304  0.411765  0.000208  0.241379  0.378788  0.286223  0.295455   \n",
      "4  0.391304  0.441176  0.598091  0.241379  0.257576  0.395487  0.386364   \n",
      "\n",
      "      fta_x     orb_x     drb_x  ...  stl%_max_opp_y  blk%_max_opp_y  \\\n",
      "0  0.234375  0.241379  0.386364  ...           0.034           0.068   \n",
      "1  0.406250  0.241379  0.363636  ...           0.061           0.079   \n",
      "2  0.343750  0.275862  0.477273  ...           0.047           0.045   \n",
      "3  0.218750  0.310345  0.522727  ...           0.047           0.053   \n",
      "4  0.343750  0.551724  0.431818  ...           0.070           0.071   \n",
      "\n",
      "   tov%_max_opp_y  usg%_max_opp_y  ortg_max_opp_y  drtg_max_opp_y  \\\n",
      "0        0.475891        0.134615        0.241706        0.681818   \n",
      "1        0.475891        0.155128        0.682464        0.386364   \n",
      "2        0.197065        0.055128        0.161137        0.318182   \n",
      "3        0.408805        0.114103        0.298578        0.511364   \n",
      "4        0.737945        0.114103        0.417062        0.420455   \n",
      "\n",
      "   total_opp_y  home_opp_y  team_opp_next_y  team_y  \n",
      "0     0.294643         1.0              ATL     NYK  \n",
      "1     0.357143         1.0              ATL     CHO  \n",
      "2     0.294643         1.0              ATL     CHO  \n",
      "3     0.223214         0.0              ATL     MIA  \n",
      "4     0.348214         0.0              ATL     BRK  \n",
      "\n",
      "[5 rows x 402 columns]\n",
      "Number of rows in 'full' DataFrame: 23620\n",
      "\n",
      "Rows where 'target' == 2:\n",
      "3908     2\n",
      "4717     2\n",
      "11871    2\n",
      "15044    2\n",
      "18144    2\n",
      "19723    2\n",
      "Name: target, dtype: int32\n"
     ]
    }
   ],
   "source": [
    "# Merging DataFrames\n",
    "# Convert rolling_cols dictionary keys to a list and add other columns\n",
    "full = df.merge(df[list(rolling_cols.keys()) + [\"team_opp_next\", \"date_next\", \"team\"]], \n",
    "                left_on=[\"team\", \"date_next\"], \n",
    "                right_on=[\"team_opp_next\", \"date_next\"])\n",
    "\n",
    "\n",
    "# Save the merged DataFrame\n",
    "output_path = \"D:\\\\1. Python\\\\1. NBA Script\\\\2025\\\\Gathering_Data\\\\Whole_Statistic\\\\full_new.csv\"\n",
    "full.to_csv(output_path, index=False)\n",
    "#print(f\"Merged data saved to: {output_path}\")\n",
    "\n",
    "# Display basic info and first few rows of the merged DataFrame\n",
    "print(\"Full DataFrame Info:\")\n",
    "print(full.info())\n",
    "print(\"\\nFirst few rows of the merged DataFrame:\")\n",
    "print(full.head())\n",
    "\n",
    "# Print number of rows in the merged DataFrame\n",
    "num_rows = full.shape[0]\n",
    "print(f\"Number of rows in 'full' DataFrame: {num_rows}\")\n",
    "\n",
    "# Extract and print rows with target == 2\n",
    "target_2_rows = full[full['target'] == 2]['target']\n",
    "print(\"\\nRows where 'target' == 2:\")\n",
    "print(target_2_rows)\n"
   ]
  },
  {
   "cell_type": "code",
   "execution_count": 14,
   "id": "fbee98ab-c1b6-486e-9297-c2c0c5b207c9",
   "metadata": {},
   "outputs": [
    {
     "name": "stdout",
     "output_type": "stream",
     "text": [
      "      team_x team_opp_next_x team_y team_opp_next_y   date_next  home_next\n",
      "3908     CHO             POR    POR             CHO  2025-01-24        1.0\n",
      "4717     CLE             PHI    PHI             CLE  2025-01-24        0.0\n",
      "11871    MEM             NOP    NOP             MEM  2025-01-24        1.0\n",
      "15044    NOP             MEM    MEM             NOP  2025-01-24        0.0\n",
      "18144    PHI             CLE    CLE             PHI  2025-01-24        1.0\n",
      "19723    POR             CHO    CHO             POR  2025-01-24        0.0\n"
     ]
    }
   ],
   "source": [
    "mask = full['date_next'] == game_day\n",
    "filtered_df = full.loc[mask, ['team_x', 'team_opp_next_x', 'team_y', 'team_opp_next_y', 'date_next', 'home_next']]\n",
    "\n",
    "print(filtered_df)"
   ]
  },
  {
   "cell_type": "code",
   "execution_count": 15,
   "id": "7a5c0bb6-6a17-4e26-aa72-4da452677a37",
   "metadata": {},
   "outputs": [],
   "source": [
    "removed_columns = list(full.columns[full.dtypes == \"object\"]) + removed_columns\n"
   ]
  },
  {
   "cell_type": "code",
   "execution_count": 16,
   "id": "19c22b44-0bdb-4e0d-b9f5-34c5f1e1d5f3",
   "metadata": {},
   "outputs": [
    {
     "data": {
      "text/plain": [
       "Index(['fg_x', 'fga_x', 'fg%_x', '3p_x', '3pa_x', '3p%_x', 'ft_x', 'fta_x',\n",
       "       'orb_x', 'drb_x',\n",
       "       ...\n",
       "       'trb%_max_opp_y', 'ast%_max_opp_y', 'stl%_max_opp_y', 'blk%_max_opp_y',\n",
       "       'tov%_max_opp_y', 'usg%_max_opp_y', 'ortg_max_opp_y', 'drtg_max_opp_y',\n",
       "       'total_opp_y', 'home_opp_y'],\n",
       "      dtype='object', length=391)"
      ]
     },
     "execution_count": 16,
     "metadata": {},
     "output_type": "execute_result"
    }
   ],
   "source": [
    "selected_columns = full.columns[~full.columns.isin(removed_columns)]\n",
    "selected_features = selected_columns.unique()\n",
    "\n",
    "selected_features"
   ]
  },
  {
   "cell_type": "code",
   "execution_count": 17,
   "id": "b83f5567-edad-409b-8065-9914fa655f83",
   "metadata": {},
   "outputs": [
    {
     "name": "stdout",
     "output_type": "stream",
     "text": [
      "           fg_x     fga_x     fg%_x      3p_x     3pa_x     3p%_x      ft_x  \\\n",
      "3908   0.478261  0.382353  0.000291  0.379310  0.409091  0.000422  0.613636   \n",
      "4717   0.478261  0.544118  0.000213  0.448276  0.560606  0.000376  0.295455   \n",
      "11871  0.652174  0.558824  0.000325  0.724138  0.651515  0.000531  0.295455   \n",
      "15044  0.478261  0.470588  0.000246  0.517241  0.560606  0.000435  0.590909   \n",
      "18144  0.543478  0.529412  0.000264  0.517241  0.515152  0.000469  0.136364   \n",
      "19723  0.456522  0.323529  0.000307  0.310345  0.363636  0.000381  0.272727   \n",
      "\n",
      "          fta_x     orb_x     drb_x  ...  stl%_max_opp_y  blk%_max_opp_y  \\\n",
      "3908   0.500000  0.379310  0.136364  ...           0.082           0.077   \n",
      "4717   0.296875  0.689655  0.204545  ...           0.066           0.161   \n",
      "11871  0.218750  0.448276  0.250000  ...           0.047           0.079   \n",
      "15044  0.453125  0.206897  0.522727  ...           0.108           0.123   \n",
      "18144  0.125000  0.275862  0.022727  ...           0.075           0.092   \n",
      "19723  0.296875  0.275862  0.409091  ...           0.061           0.047   \n",
      "\n",
      "       tov%_max_opp_y  usg%_max_opp_y  ortg_max_opp_y  drtg_max_opp_y  \\\n",
      "3908         0.310273        0.266667        0.312796        0.443182   \n",
      "4717         0.433962        0.071795        0.587678        0.500000   \n",
      "11871        0.371069        0.097436        0.407583        0.431818   \n",
      "15044        0.475891        0.201282        0.464455        0.738636   \n",
      "18144        0.233753        0.082051        0.255924        0.511364   \n",
      "19723        0.580713        0.320513        0.431280        0.590909   \n",
      "\n",
      "       total_opp_y  home_opp_y  team_opp_next_y  team_y  \n",
      "3908      0.133929         1.0              CHO     POR  \n",
      "4717      0.714286         1.0              CLE     PHI  \n",
      "11871     0.491071         0.0              MEM     NOP  \n",
      "15044     0.500000         0.0              NOP     MEM  \n",
      "18144     0.401786         1.0              PHI     CLE  \n",
      "19723     0.607143         1.0              POR     CHO  \n",
      "\n",
      "[6 rows x 402 columns]\n"
     ]
    }
   ],
   "source": [
    "full_train = full[full[\"target\"] != 2]\n",
    "full_pred = full[full[\"target\"] == 2]\n",
    "\n",
    "print(full_pred)\n",
    "\n",
    "X = full_train[selected_features].values\n",
    "y = full_train[\"target\"].values\n"
   ]
  },
  {
   "cell_type": "code",
   "execution_count": 18,
   "id": "dc1d4973-e74e-4a7e-8141-80be0ee3b45a",
   "metadata": {},
   "outputs": [],
   "source": [
    "# Split the data into training and test sets\n",
    "X_train, X_test, y_train, y_test = train_test_split(X, y, test_size=0.2, random_state=42)"
   ]
  },
  {
   "cell_type": "code",
   "execution_count": 19,
   "id": "a476cc81-5ca8-4a49-b457-6c4355fd19b1",
   "metadata": {},
   "outputs": [],
   "source": [
    "from sklearn.model_selection import GridSearchCV\n",
    "\n",
    "# Define the parameter grid\n",
    "param_grid = {\n",
    "    'num_leaves': [10, 20, 30],\n",
    "    'learning_rate': [0.01, 0.05, 0.1],\n",
    "    'max_depth': [3, 5, 7],\n",
    "    'min_child_weight': [1, 5, 10]\n",
    "}\n",
    "\n",
    "# Create a LightGBM classifier\n",
    "base_estimator = lgb.LGBMClassifier(objective='binary',\n",
    "                                     metric='auc',\n",
    "                                     boosting_type='gbdt',\n",
    "                                     verbosity=-1,\n",
    "                                     random_state=42)\n",
    "\n",
    "# Initialize GridSearchCV\n",
    "grid_search = GridSearchCV(estimator=base_estimator,\n",
    "                           param_grid=param_grid,\n",
    "                           scoring='roc_auc',\n",
    "                           cv=5,\n",
    "                           verbose=1,\n",
    "                           n_jobs=-1)\n",
    "\n",
    "# Perform grid search\n",
    "#grid_search.fit(X_train, y_train)\n",
    "\n",
    "# Print the best parameters\n",
    "#print(\"Best parameters found:\", grid_search.best_params_)\n"
   ]
  },
  {
   "cell_type": "code",
   "execution_count": 20,
   "id": "f1325b09-d995-4696-b8a9-f0e691cfb548",
   "metadata": {},
   "outputs": [],
   "source": [
    "#Best parameters found: {'learning_rate': 0.1, 'max_depth': 7, 'min_child_weight': 5, 'num_leaves': 10}\n",
    "\n",
    "params = {\n",
    "    'objective': 'binary',\n",
    "    'metric': 'auc',\n",
    "    'num_leaves': 10,\n",
    "    'learning_rate': 0.1,\n",
    "    'feature_fraction': 0.9,\n",
    "    'bagging_fraction': 0.9,\n",
    "    'bagging_freq': 10,\n",
    "    'boosting_type': 'gbdt',\n",
    "    'verbosity': -1,\n",
    "    'random_state': 42,\n",
    "    'lambda_l1': 0.5,\n",
    "    'lambda_l2': 0.5,\n",
    "    'max_depth': 7,\n",
    "    'min_child_weight': 5\n",
    "}\n",
    "\n",
    "model = lgb.LGBMClassifier(**params)\n",
    "\n"
   ]
  },
  {
   "cell_type": "code",
   "execution_count": 21,
   "id": "9cc4a09f-2a39-473c-b988-34ec4b55c59d",
   "metadata": {},
   "outputs": [
    {
     "name": "stdout",
     "output_type": "stream",
     "text": [
      "Accuracy: 61.72%\n"
     ]
    }
   ],
   "source": [
    "# Train the model using X_train and y_train\n",
    "model.fit(X_train, y_train)\n",
    "\n",
    "# Predict the target values for the test set X_test\n",
    "y_pred = model.predict(X_test)\n",
    "\n",
    "# Check the accuracy of the model using the test set\n",
    "accuracy = accuracy_score(y_test, y_pred)\n",
    "print(\"Accuracy: {:.2f}%\".format(accuracy*100))"
   ]
  },
  {
   "cell_type": "code",
   "execution_count": 22,
   "id": "85391b35-b78c-4b17-9a63-490a01004ff3",
   "metadata": {},
   "outputs": [
    {
     "name": "stdout",
     "output_type": "stream",
     "text": [
      "drtg_7: 24\n",
      "home_next: 20\n",
      "ortg_7: 19\n",
      "pts_max_7: 15\n",
      "usg%_max_7: 13\n",
      "usg%_max_y: 13\n",
      "fta_max_7: 12\n",
      "ft_opp_7: 11\n",
      "blk_opp_7: 11\n",
      "ortg_y: 11\n",
      "trb%_max_7: 10\n",
      "3p%_opp_7: 10\n",
      "drtg_y: 10\n",
      "pts_max_y: 10\n",
      "3pa_7: 9\n",
      "pts_opp_7: 9\n",
      "drtg_max_opp_7: 9\n",
      "blk%_x: 8\n",
      "ortg_max_7: 8\n",
      "fg_opp_7: 8\n",
      "3pa_opp_7: 8\n",
      "3par_max_y: 8\n",
      "orb%_max_y: 8\n",
      "pts_7: 7\n",
      "orb%_7: 7\n",
      "drtg_max_7: 7\n",
      "stl%_y: 7\n",
      "blk%_y: 7\n",
      "ft_max_y: 7\n",
      "fg_opp_y: 7\n"
     ]
    }
   ],
   "source": [
    "importances = model.feature_importances_\n",
    "\n",
    "# create a dictionary to store feature importances with column names\n",
    "feat_importances = dict(zip(selected_columns, importances))\n",
    "\n",
    "# sort the dictionary by importance score in descending order\n",
    "sorted_feat_importances = sorted(feat_importances.items(), key=lambda x: x[1], reverse=True)\n",
    "\n",
    "\n",
    "# Print the sorted feature importances\n",
    "for feature, importance in sorted_feat_importances[:30]:\n",
    "    print(\"{}: {}\".format(feature, importance))\n"
   ]
  },
  {
   "cell_type": "code",
   "execution_count": 23,
   "id": "9419fcad-09ce-422b-9db5-a4123750354d",
   "metadata": {},
   "outputs": [
    {
     "name": "stderr",
     "output_type": "stream",
     "text": [
      "C:\\Users\\alexx\\AppData\\Local\\Temp\\ipykernel_28380\\3321130807.py:2: SettingWithCopyWarning: \n",
      "A value is trying to be set on a copy of a slice from a DataFrame.\n",
      "Try using .loc[row_indexer,col_indexer] = value instead\n",
      "\n",
      "See the caveats in the documentation: https://pandas.pydata.org/pandas-docs/stable/user_guide/indexing.html#returning-a-view-versus-a-copy\n",
      "  full_pred[\"proba\"] = model.predict_proba(full_pred[selected_features])[:,1]\n"
     ]
    },
    {
     "data": {
      "text/plain": [
       "3908     0.609328\n",
       "4717     0.557961\n",
       "11871    0.480711\n",
       "15044    0.531160\n",
       "18144    0.458300\n",
       "19723    0.341123\n",
       "Name: proba, dtype: float64"
      ]
     },
     "execution_count": 23,
     "metadata": {},
     "output_type": "execute_result"
    }
   ],
   "source": [
    "# predict on new data\n",
    "full_pred[\"proba\"] = model.predict_proba(full_pred[selected_features])[:,1]\n",
    "full_pred[\"proba\"]"
   ]
  },
  {
   "cell_type": "code",
   "execution_count": 24,
   "id": "5dee7877-02ee-4680-b072-2669e30c7e34",
   "metadata": {},
   "outputs": [
    {
     "data": {
      "text/plain": [
       "3908     0.609328\n",
       "11871    0.480711\n",
       "18144    0.458300\n",
       "Name: proba, dtype: float64"
      ]
     },
     "execution_count": 24,
     "metadata": {},
     "output_type": "execute_result"
    }
   ],
   "source": [
    "home_teams_prob = list(games_df['home_team'])\n",
    "away_teams_prob = list(games_df['away_team'])\n",
    "\n",
    "#print(home_teams_prob)\n",
    "#print(away_teams_prob)\n",
    "\n",
    "# Filter the rows where team_x is a home team\n",
    "full_pred_prob = full_pred['team_x'].isin(home_teams_prob)\n",
    "#print(full_pred_prob)\n",
    "\n",
    "#full_pred_prob = full_pred['team_x'].isin(home_teams_prob)\n",
    "full_pred[full_pred_prob]['proba']\n"
   ]
  },
  {
   "cell_type": "code",
   "execution_count": 25,
   "id": "140f8e45-d3d6-4850-9a82-4c9f6d304907",
   "metadata": {},
   "outputs": [
    {
     "name": "stdout",
     "output_type": "stream",
     "text": [
      "      team_x team_y\n",
      "3908     CHO    POR\n",
      "11871    MEM    NOP\n",
      "18144    PHI    CLE\n"
     ]
    }
   ],
   "source": [
    "# Filter rows where full_pred_prob is True\n",
    "\n",
    "team_x = full_pred.loc[full_pred_prob, 'team_x']\n",
    "team_y = full_pred.loc[full_pred_prob, 'team_y']\n",
    "#print(team_x)\n",
    "#print(team_y)\n",
    "\n",
    "team_pairs = pd.concat([team_x, team_y], axis=1)\n",
    "\n",
    "\n",
    "print(team_pairs)"
   ]
  },
  {
   "cell_type": "code",
   "execution_count": 26,
   "id": "4d34373d-459f-4ab5-a083-66cd72a990eb",
   "metadata": {},
   "outputs": [
    {
     "name": "stdout",
     "output_type": "stream",
     "text": [
      "home_team away_team  home_team_prob  odds 1  odds 2  result       date\n",
      "      CHO       POR        0.609328       0       0       0 2025-01-24\n",
      "      MEM       NOP        0.480711       0       0       0 2025-01-24\n",
      "      PHI       CLE        0.458300       0       0       0 2025-01-24\n"
     ]
    }
   ],
   "source": [
    "# Filter rows where full_pred_prob is True\n",
    "home_team_preds = full_pred.loc[full_pred_prob, ['team_x', 'team_y', 'proba']]\n",
    "\n",
    "# Rename the columns to match the format of the games_df dataframe\n",
    "home_team_preds.columns = ['home_team', 'away_team', 'home_team_prob']#, 'odds', 'result']\n",
    "home_team_preds['odds 1'] = 0\n",
    "home_team_preds['odds 2'] = 0\n",
    "\n",
    "home_team_preds['result'] = 0\n",
    "#home_team_preds['hit'] = 0\n",
    "home_team_preds['date'] = game_day\n",
    "\n",
    "# Print the resulting dataframe\n",
    "print((home_team_preds).to_string(index=False))\n",
    "\n",
    "#print(combined_df.head(80).to_string(index=False))\n",
    "\n"
   ]
  },
  {
   "cell_type": "code",
   "execution_count": 27,
   "id": "34e16f27-507b-4c85-bb2d-2aba4a73ac47",
   "metadata": {},
   "outputs": [
    {
     "name": "stdout",
     "output_type": "stream",
     "text": [
      "nba_games_predict_2025-01-24.csv\n",
      "The file 'nba_games_predict_2025-01-24.csv' does not exist and can be created.\n"
     ]
    }
   ],
   "source": [
    "# Specify the directory where you want to save the file\n",
    "file_name = \"nba_games_predict_\" + today + \".csv\"\n",
    "print(file_name)\n",
    "\n",
    "# Construct the full file path\n",
    "full_path = os.path.join(directory_path, file_name)\n",
    "\n",
    "# Check if the file already exists\n",
    "if os.path.isfile(full_path):\n",
    "    print(f\"A file with the name '{file_name}' already exists in the directory '{directory_path}'.\")\n",
    "else:\n",
    "    # If the file does not exist, save the DataFrame to the CSV file\n",
    "    # Make sure 'home_team_preds' is your actual DataFrame variable\n",
    "    # home_team_preds.to_csv(full_path, index=False)\n",
    "    print(f\"The file '{file_name}' does not exist and can be created.\")\n",
    "    home_team_preds.to_csv(f\"{directory_path}\\\\{file_name}\", index=False)\n"
   ]
  },
  {
   "cell_type": "code",
   "execution_count": 28,
   "id": "77bc511c-5b18-4b40-996a-ce44d12f193f",
   "metadata": {},
   "outputs": [
    {
     "name": "stdout",
     "output_type": "stream",
     "text": [
      "D:\\1. Python\\1. NBA Script\\2025\\LightGBM\\1. 2025_Prediction\n",
      "Files in source but not in destination:\n"
     ]
    }
   ],
   "source": [
    "# Open folder using subprocess on Windows\n",
    "if os.name == 'nt':\n",
    "    subprocess.Popen(f'explorer {directory_path}')\n",
    "print(directory_path)\n",
    "file_path = directory_path + \"/\" + file_name\n",
    "\n",
    "src_files = set(os.listdir(directory_path))\n",
    "dst_files = set(os.listdir(dst_dir))\n",
    "\n",
    "diff = src_files - dst_files\n",
    "\n",
    "print('Files in source but not in destination:')\n"
   ]
  },
  {
   "cell_type": "code",
   "execution_count": 29,
   "id": "0142502f-fbb7-40dd-bb2d-bff888db5971",
   "metadata": {},
   "outputs": [
    {
     "name": "stdout",
     "output_type": "stream",
     "text": [
      "File copied successfully\n",
      "D:\\_Laufwerk C\\11. Sorare\\NBA\\2025\\LightGBM\n"
     ]
    }
   ],
   "source": [
    "if diff:\n",
    "    file_to_copy = os.path.join(directory_path, diff.pop())\n",
    "    shutil.copy2(file_to_copy, dst_dir)\n",
    "    print('File copied successfully')\n",
    "    print(dst_dir)\n",
    "else:\n",
    "    print('No files to copy')"
   ]
  },
  {
   "cell_type": "code",
   "execution_count": null,
   "id": "a4a93ede-4d3e-452f-8e13-77ce64738ab4",
   "metadata": {},
   "outputs": [],
   "source": []
  }
 ],
 "metadata": {
  "kernelspec": {
   "display_name": "Python 3 (ipykernel)",
   "language": "python",
   "name": "python3"
  },
  "language_info": {
   "codemirror_mode": {
    "name": "ipython",
    "version": 3
   },
   "file_extension": ".py",
   "mimetype": "text/x-python",
   "name": "python",
   "nbconvert_exporter": "python",
   "pygments_lexer": "ipython3",
   "version": "3.11.5"
  }
 },
 "nbformat": 4,
 "nbformat_minor": 5
}
